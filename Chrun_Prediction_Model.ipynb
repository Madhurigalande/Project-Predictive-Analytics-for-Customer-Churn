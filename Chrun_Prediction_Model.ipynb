{
  "cells": [
    {
      "cell_type": "code",
      "execution_count": null,
      "id": "430176fd",
      "metadata": {
        "id": "430176fd"
      },
      "outputs": [],
      "source": [
        "# For displaying plots inline in Jupyter Notebooks (Jupyter/Colab only)\n",
        "%matplotlib inline\n",
        "\n",
        "# Core libraries\n",
        "import os  # Used for interacting with the operating system (e.g., file handling)\n",
        "\n",
        "# NumPy for numerical operations and linear algebra\n",
        "import numpy as np  # Core numerical operations\n",
        "from numpy import random  # Random number generation\n",
        "from numpy.linalg import inv  # Matrix inversion\n",
        "\n",
        "# Pandas for data manipulation and analysis\n",
        "import pandas as pd\n",
        "\n",
        "# SciPy for scientific and statistical computing\n",
        "import scipy  # Core SciPy functionality\n",
        "from scipy import stats as sts  # Statistical tools and distributions\n",
        "from scipy.stats import (\n",
        "    skew,               # Measure of asymmetry in data\n",
        "    kurtosis,           # Measure of tailedness in data\n",
        "    binom,              # Binomial distribution\n",
        "    poisson,            # Poisson distribution\n",
        "    expon,              # Exponential distribution\n",
        "    norm,               # Normal distribution\n",
        "    t,                  # Student's t-distribution\n",
        "    chisquare,          # Chi-square test\n",
        "    chi2,               # to convert test-statistic value to p-value\n",
        "    chi2_contingency,   #\n",
        "    f\n",
        ")\n",
        "import scipy.cluster.hierarchy as sch\n",
        "\n",
        "# Collections module for specialized container datatypes\n",
        "from collections import Counter  # Count frequency of elements in a list or array\n",
        "\n",
        "# Matplotlib for basic data visualization\n",
        "import matplotlib\n",
        "from matplotlib import pyplot as plt  # Plotting interface similar to MATLAB\n",
        "\n",
        "# Seaborn for statistical data visualization (built on top of matplotlib)\n",
        "import seaborn as sns\n",
        "\n",
        "# Pylab for legacy plotting support (not recommended for modern use)\n",
        "from pylab import legend  # For adding legends to plots\n",
        "\n",
        "# Statsmodels for advanced statistical modeling and inference\n",
        "import statsmodels.api as sm  # Core API for modeling\n",
        "from statsmodels import stats  # Statistical tools\n",
        "from statsmodels.stats import (\n",
        "    weightstats as ssw,  # Weighted statistics (e.g., t-tests)\n",
        "    proportion as ssp,\n",
        ")\n",
        "from statsmodels.stats.proportion import proportions_ztest\n",
        "from statsmodels.formula.api import ols  # Ordinary Least Squares (regression)\n",
        "import statsmodels.stats.multicomp  # Multiple comparison tests\n",
        "from statsmodels.stats.multicomp import pairwise_tukeyhsd  # Tukey's HSD test for pairwise comparisons\n",
        "from statsmodels.stats import rates\n",
        "from statsmodels.stats.rates import (\n",
        "    test_poisson,\n",
        "    test_poisson_2indep\n",
        ")\n",
        "from statsmodels import discrete\n",
        "from statsmodels.discrete import discrete_model\n",
        "from statsmodels.discrete.discrete_model import MNLogit\n",
        "from statsmodels.miscmodels.ordinal_model import OrderedModel\n",
        "import statsmodels.formula.api as smf\n",
        "from statsmodels.discrete.discrete_model import Poisson as psn, NegativeBinomial as ngb\n",
        "from statsmodels.tsa.seasonal import seasonal_decompose\n",
        "from statsmodels.tsa.api import SimpleExpSmoothing, Holt\n",
        "\n",
        "from sklearn.metrics import mean_squared_error, confusion_matrix, classification_report, r2_score, roc_auc_score\n",
        "from sklearn.linear_model import LinearRegression, Lasso, LassoCV, Ridge, RidgeCV, ElasticNet, ElasticNetCV\n",
        "from sklearn.model_selection import train_test_split, GridSearchCV  #Train test split\n",
        "from sklearn.preprocessing import PolynomialFeatures, MinMaxScaler, StandardScaler, RobustScaler, OneHotEncoder\n",
        "from statsmodels.stats.outliers_influence import variance_inflation_factor\n",
        "from sklearn.feature_selection import SelectKBest\n",
        "from sklearn.tree import DecisionTreeClassifier, DecisionTreeRegressor\n",
        "from sklearn.ensemble import RandomForestClassifier, GradientBoostingClassifier, AdaBoostClassifier, RandomForestRegressor, GradientBoostingRegressor, AdaBoostRegressor\n",
        "from sklearn.cluster import KMeans, DBSCAN\n",
        "from sklearn.neighbors import KNeighborsClassifier, KNeighborsRegressor\n",
        "from sklearn.svm import SVC, SVR\n",
        "import xgboost\n",
        "from xgboost import XGBClassifier\n",
        "# ------\n",
        "import tensorflow as tf\n",
        "from tensorflow.keras.models import Sequential # helps with the forward and backward propagation\n",
        "from tensorflow.keras.layers import Dense # this is for the hidden, input and output layers\n",
        "from tensorflow.keras.layers import ReLU # importing the ReLU function\n",
        "from tensorflow.keras.layers import Dropout  # required for switching off some neurons\n",
        "from tensorflow.keras import datasets, layers, models\n",
        "from tensorflow.keras.layers import Conv2D, MaxPooling2D\n",
        "\n",
        "import nltk\n",
        "from nltk.corpus import stopwords\n",
        "from nltk.tokenize import word_tokenize\n",
        "from nltk.stem import WordNetLemmatizer, PorterStemmer\n",
        "from nltk import pos_tag\n",
        "from nltk.util import ngrams\n",
        "import string"
      ]
    },
    {
      "cell_type": "code",
      "execution_count": null,
      "id": "84309b1f",
      "metadata": {
        "id": "84309b1f"
      },
      "outputs": [],
      "source": [
        "os.chdir(r'E:/CDAC/Statistics and PML/Statistics')"
      ]
    },
    {
      "cell_type": "code",
      "execution_count": null,
      "id": "1bf2d056",
      "metadata": {
        "id": "1bf2d056",
        "outputId": "cd4e666c-a92f-4e86-aa5b-f903d88b76a8"
      },
      "outputs": [
        {
          "data": {
            "text/html": [
              "<div>\n",
              "<style scoped>\n",
              "    .dataframe tbody tr th:only-of-type {\n",
              "        vertical-align: middle;\n",
              "    }\n",
              "\n",
              "    .dataframe tbody tr th {\n",
              "        vertical-align: top;\n",
              "    }\n",
              "\n",
              "    .dataframe thead th {\n",
              "        text-align: right;\n",
              "    }\n",
              "</style>\n",
              "<table border=\"1\" class=\"dataframe\">\n",
              "  <thead>\n",
              "    <tr style=\"text-align: right;\">\n",
              "      <th></th>\n",
              "      <th>RowNumber</th>\n",
              "      <th>CustomerId</th>\n",
              "      <th>Surname</th>\n",
              "      <th>CreditScore</th>\n",
              "      <th>Geography</th>\n",
              "      <th>Gender</th>\n",
              "      <th>Age</th>\n",
              "      <th>Tenure</th>\n",
              "      <th>Balance</th>\n",
              "      <th>NumOfProducts</th>\n",
              "      <th>HasCrCard</th>\n",
              "      <th>IsActiveMember</th>\n",
              "      <th>EstimatedSalary</th>\n",
              "      <th>Exited</th>\n",
              "    </tr>\n",
              "  </thead>\n",
              "  <tbody>\n",
              "    <tr>\n",
              "      <th>0</th>\n",
              "      <td>1</td>\n",
              "      <td>15634602</td>\n",
              "      <td>Hargrave</td>\n",
              "      <td>652.0</td>\n",
              "      <td>France</td>\n",
              "      <td>Female</td>\n",
              "      <td>42.0</td>\n",
              "      <td>2.0</td>\n",
              "      <td>0.00</td>\n",
              "      <td>1.0</td>\n",
              "      <td>1.0</td>\n",
              "      <td>1.0</td>\n",
              "      <td>101348.88</td>\n",
              "      <td>1.0</td>\n",
              "    </tr>\n",
              "    <tr>\n",
              "      <th>1</th>\n",
              "      <td>2</td>\n",
              "      <td>15647311</td>\n",
              "      <td>Hill</td>\n",
              "      <td>608.0</td>\n",
              "      <td>France</td>\n",
              "      <td>Female</td>\n",
              "      <td>41.0</td>\n",
              "      <td>1.0</td>\n",
              "      <td>0.00</td>\n",
              "      <td>1.0</td>\n",
              "      <td>0.0</td>\n",
              "      <td>1.0</td>\n",
              "      <td>112542.58</td>\n",
              "      <td>0.0</td>\n",
              "    </tr>\n",
              "    <tr>\n",
              "      <th>2</th>\n",
              "      <td>4</td>\n",
              "      <td>15701354</td>\n",
              "      <td>Boni</td>\n",
              "      <td>652.0</td>\n",
              "      <td>France</td>\n",
              "      <td>Female</td>\n",
              "      <td>37.0</td>\n",
              "      <td>1.0</td>\n",
              "      <td>0.00</td>\n",
              "      <td>2.0</td>\n",
              "      <td>0.0</td>\n",
              "      <td>0.0</td>\n",
              "      <td>93826.63</td>\n",
              "      <td>0.0</td>\n",
              "    </tr>\n",
              "    <tr>\n",
              "      <th>3</th>\n",
              "      <td>5</td>\n",
              "      <td>15737888</td>\n",
              "      <td>Mitchell</td>\n",
              "      <td>850.0</td>\n",
              "      <td>Spain</td>\n",
              "      <td>Female</td>\n",
              "      <td>43.0</td>\n",
              "      <td>0.0</td>\n",
              "      <td>125510.82</td>\n",
              "      <td>1.0</td>\n",
              "      <td>1.0</td>\n",
              "      <td>1.0</td>\n",
              "      <td>0.00</td>\n",
              "      <td>0.0</td>\n",
              "    </tr>\n",
              "    <tr>\n",
              "      <th>4</th>\n",
              "      <td>6</td>\n",
              "      <td>15574012</td>\n",
              "      <td>Chu</td>\n",
              "      <td>645.0</td>\n",
              "      <td>Spain</td>\n",
              "      <td>Male</td>\n",
              "      <td>44.0</td>\n",
              "      <td>8.0</td>\n",
              "      <td>113755.78</td>\n",
              "      <td>2.0</td>\n",
              "      <td>1.0</td>\n",
              "      <td>0.0</td>\n",
              "      <td>149756.71</td>\n",
              "      <td>1.0</td>\n",
              "    </tr>\n",
              "    <tr>\n",
              "      <th>...</th>\n",
              "      <td>...</td>\n",
              "      <td>...</td>\n",
              "      <td>...</td>\n",
              "      <td>...</td>\n",
              "      <td>...</td>\n",
              "      <td>...</td>\n",
              "      <td>...</td>\n",
              "      <td>...</td>\n",
              "      <td>...</td>\n",
              "      <td>...</td>\n",
              "      <td>...</td>\n",
              "      <td>...</td>\n",
              "      <td>...</td>\n",
              "      <td>...</td>\n",
              "    </tr>\n",
              "    <tr>\n",
              "      <th>107995</th>\n",
              "      <td>4977</td>\n",
              "      <td>15701206</td>\n",
              "      <td>Reilly</td>\n",
              "      <td>583.0</td>\n",
              "      <td>France</td>\n",
              "      <td>Male</td>\n",
              "      <td>53.0</td>\n",
              "      <td>6.0</td>\n",
              "      <td>141004.46</td>\n",
              "      <td>2.0</td>\n",
              "      <td>0.0</td>\n",
              "      <td>0.0</td>\n",
              "      <td>143711.02</td>\n",
              "      <td>0.0</td>\n",
              "    </tr>\n",
              "    <tr>\n",
              "      <th>107996</th>\n",
              "      <td>6047</td>\n",
              "      <td>15695819</td>\n",
              "      <td>Tang</td>\n",
              "      <td>418.0</td>\n",
              "      <td>Spain</td>\n",
              "      <td>Female</td>\n",
              "      <td>38.0</td>\n",
              "      <td>4.0</td>\n",
              "      <td>0.00</td>\n",
              "      <td>2.0</td>\n",
              "      <td>1.0</td>\n",
              "      <td>0.0</td>\n",
              "      <td>143458.31</td>\n",
              "      <td>0.0</td>\n",
              "    </tr>\n",
              "    <tr>\n",
              "      <th>107997</th>\n",
              "      <td>9876</td>\n",
              "      <td>15655903</td>\n",
              "      <td>Thompson</td>\n",
              "      <td>763.0</td>\n",
              "      <td>Spain</td>\n",
              "      <td>Male</td>\n",
              "      <td>32.0</td>\n",
              "      <td>0.0</td>\n",
              "      <td>12459.19</td>\n",
              "      <td>1.0</td>\n",
              "      <td>1.0</td>\n",
              "      <td>0.0</td>\n",
              "      <td>127022.87</td>\n",
              "      <td>0.0</td>\n",
              "    </tr>\n",
              "    <tr>\n",
              "      <th>107998</th>\n",
              "      <td>5685</td>\n",
              "      <td>15684769</td>\n",
              "      <td>Ts'ao</td>\n",
              "      <td>688.0</td>\n",
              "      <td>France</td>\n",
              "      <td>Male</td>\n",
              "      <td>30.0</td>\n",
              "      <td>4.0</td>\n",
              "      <td>0.00</td>\n",
              "      <td>2.0</td>\n",
              "      <td>0.0</td>\n",
              "      <td>1.0</td>\n",
              "      <td>58111.71</td>\n",
              "      <td>0.0</td>\n",
              "    </tr>\n",
              "    <tr>\n",
              "      <th>107999</th>\n",
              "      <td>2689</td>\n",
              "      <td>15684173</td>\n",
              "      <td>Botts</td>\n",
              "      <td>661.0</td>\n",
              "      <td>Germany</td>\n",
              "      <td>Female</td>\n",
              "      <td>45.0</td>\n",
              "      <td>8.0</td>\n",
              "      <td>0.00</td>\n",
              "      <td>1.0</td>\n",
              "      <td>0.0</td>\n",
              "      <td>1.0</td>\n",
              "      <td>17034.37</td>\n",
              "      <td>0.0</td>\n",
              "    </tr>\n",
              "  </tbody>\n",
              "</table>\n",
              "<p>108000 rows × 14 columns</p>\n",
              "</div>"
            ],
            "text/plain": [
              "        RowNumber  CustomerId   Surname  CreditScore Geography  Gender   Age  \\\n",
              "0               1    15634602  Hargrave        652.0    France  Female  42.0   \n",
              "1               2    15647311      Hill        608.0    France  Female  41.0   \n",
              "2               4    15701354      Boni        652.0    France  Female  37.0   \n",
              "3               5    15737888  Mitchell        850.0     Spain  Female  43.0   \n",
              "4               6    15574012       Chu        645.0     Spain    Male  44.0   \n",
              "...           ...         ...       ...          ...       ...     ...   ...   \n",
              "107995       4977    15701206    Reilly        583.0    France    Male  53.0   \n",
              "107996       6047    15695819      Tang        418.0     Spain  Female  38.0   \n",
              "107997       9876    15655903  Thompson        763.0     Spain    Male  32.0   \n",
              "107998       5685    15684769     Ts'ao        688.0    France    Male  30.0   \n",
              "107999       2689    15684173     Botts        661.0   Germany  Female  45.0   \n",
              "\n",
              "        Tenure    Balance  NumOfProducts  HasCrCard  IsActiveMember  \\\n",
              "0          2.0       0.00            1.0        1.0             1.0   \n",
              "1          1.0       0.00            1.0        0.0             1.0   \n",
              "2          1.0       0.00            2.0        0.0             0.0   \n",
              "3          0.0  125510.82            1.0        1.0             1.0   \n",
              "4          8.0  113755.78            2.0        1.0             0.0   \n",
              "...        ...        ...            ...        ...             ...   \n",
              "107995     6.0  141004.46            2.0        0.0             0.0   \n",
              "107996     4.0       0.00            2.0        1.0             0.0   \n",
              "107997     0.0   12459.19            1.0        1.0             0.0   \n",
              "107998     4.0       0.00            2.0        0.0             1.0   \n",
              "107999     8.0       0.00            1.0        0.0             1.0   \n",
              "\n",
              "        EstimatedSalary  Exited  \n",
              "0             101348.88     1.0  \n",
              "1             112542.58     0.0  \n",
              "2              93826.63     0.0  \n",
              "3                  0.00     0.0  \n",
              "4             149756.71     1.0  \n",
              "...                 ...     ...  \n",
              "107995        143711.02     0.0  \n",
              "107996        143458.31     0.0  \n",
              "107997        127022.87     0.0  \n",
              "107998         58111.71     0.0  \n",
              "107999         17034.37     0.0  \n",
              "\n",
              "[108000 rows x 14 columns]"
            ]
          },
          "execution_count": 3,
          "metadata": {},
          "output_type": "execute_result"
        }
      ],
      "source": [
        "df = pd.read_csv('churning_clean.csv')\n",
        "df"
      ]
    },
    {
      "cell_type": "code",
      "execution_count": null,
      "id": "ca1e561d",
      "metadata": {
        "id": "ca1e561d",
        "outputId": "ceb90725-4ee4-4202-d731-6168dfb5d179"
      },
      "outputs": [
        {
          "data": {
            "text/plain": [
              "RowNumber          0\n",
              "CustomerId         0\n",
              "Surname            0\n",
              "CreditScore        0\n",
              "Geography          0\n",
              "Gender             0\n",
              "Age                0\n",
              "Tenure             0\n",
              "Balance            0\n",
              "NumOfProducts      0\n",
              "HasCrCard          0\n",
              "IsActiveMember     0\n",
              "EstimatedSalary    0\n",
              "Exited             0\n",
              "dtype: int64"
            ]
          },
          "execution_count": 4,
          "metadata": {},
          "output_type": "execute_result"
        }
      ],
      "source": [
        "df.isnull().sum()"
      ]
    },
    {
      "cell_type": "code",
      "execution_count": null,
      "id": "3e3e079f",
      "metadata": {
        "id": "3e3e079f"
      },
      "outputs": [],
      "source": [
        "df = df.drop(['RowNumber', 'CustomerId', 'Surname'], axis=1)"
      ]
    },
    {
      "cell_type": "code",
      "execution_count": null,
      "id": "fd37966b",
      "metadata": {
        "id": "fd37966b",
        "outputId": "4b4e9906-bcce-45df-a237-ad853880b035"
      },
      "outputs": [
        {
          "name": "stdout",
          "output_type": "stream",
          "text": [
            "<class 'pandas.core.frame.DataFrame'>\n",
            "RangeIndex: 108000 entries, 0 to 107999\n",
            "Data columns (total 11 columns):\n",
            " #   Column           Non-Null Count   Dtype  \n",
            "---  ------           --------------   -----  \n",
            " 0   CreditScore      108000 non-null  float64\n",
            " 1   Geography        108000 non-null  object \n",
            " 2   Gender           108000 non-null  object \n",
            " 3   Age              108000 non-null  float64\n",
            " 4   Tenure           108000 non-null  float64\n",
            " 5   Balance          108000 non-null  float64\n",
            " 6   NumOfProducts    108000 non-null  float64\n",
            " 7   HasCrCard        108000 non-null  float64\n",
            " 8   IsActiveMember   108000 non-null  float64\n",
            " 9   EstimatedSalary  108000 non-null  float64\n",
            " 10  Exited           108000 non-null  float64\n",
            "dtypes: float64(9), object(2)\n",
            "memory usage: 9.1+ MB\n"
          ]
        }
      ],
      "source": [
        "df.info()"
      ]
    },
    {
      "cell_type": "code",
      "execution_count": null,
      "id": "41bcd988",
      "metadata": {
        "id": "41bcd988"
      },
      "outputs": [],
      "source": [
        "cat_cols = ['Geography', 'Gender', 'NumOfProducts', 'HasCrCard', 'IsActiveMember']\n",
        "conti_cols = list(df.columns.difference(cat_cols))"
      ]
    },
    {
      "cell_type": "code",
      "execution_count": null,
      "id": "2fca1d10",
      "metadata": {
        "id": "2fca1d10",
        "outputId": "786cf440-039a-4ff0-c48d-13c3d7ff6cda"
      },
      "outputs": [
        {
          "data": {
            "text/plain": [
              "(['Age', 'Balance', 'CreditScore', 'EstimatedSalary', 'Exited', 'Tenure'],\n",
              " ['Geography', 'Gender', 'NumOfProducts', 'HasCrCard', 'IsActiveMember'])"
            ]
          },
          "execution_count": 8,
          "metadata": {},
          "output_type": "execute_result"
        }
      ],
      "source": [
        "conti_cols, cat_cols"
      ]
    },
    {
      "cell_type": "code",
      "execution_count": null,
      "id": "25c34f6f",
      "metadata": {
        "id": "25c34f6f",
        "outputId": "2ac1b045-6751-4c50-a627-dca0c985b742"
      },
      "outputs": [
        {
          "data": {
            "text/plain": [
              "array([1., 0.])"
            ]
          },
          "execution_count": 9,
          "metadata": {},
          "output_type": "execute_result"
        }
      ],
      "source": [
        "df.Exited.unique()"
      ]
    },
    {
      "cell_type": "code",
      "execution_count": null,
      "id": "37c32848",
      "metadata": {
        "id": "37c32848",
        "outputId": "a2576cf4-0980-48fe-b8a0-3e3ede2494d0"
      },
      "outputs": [
        {
          "name": "stdout",
          "output_type": "stream",
          "text": [
            "Geography\n",
            "['France' 'Germany' 'Spain']\n",
            "----\n",
            "Gender\n",
            "['Female' 'Male']\n",
            "----\n",
            "NumOfProducts\n",
            "[1. 2. 3. 4.]\n",
            "----\n",
            "HasCrCard\n",
            "[0. 1.]\n",
            "----\n",
            "IsActiveMember\n",
            "[0. 1.]\n",
            "----\n"
          ]
        }
      ],
      "source": [
        "for i in cat_cols:\n",
        "  print(i)\n",
        "  print(np.unique(df[i]))\n",
        "  print(\"----\")"
      ]
    },
    {
      "cell_type": "code",
      "execution_count": null,
      "id": "497dad6a",
      "metadata": {
        "id": "497dad6a"
      },
      "outputs": [],
      "source": [
        "imp_cols = []"
      ]
    },
    {
      "cell_type": "code",
      "execution_count": null,
      "id": "a43df81d",
      "metadata": {
        "id": "a43df81d",
        "outputId": "feed34e3-af4e-4fc6-f906-c31ee92bf967"
      },
      "outputs": [
        {
          "name": "stdout",
          "output_type": "stream",
          "text": [
            "-----------------------\n",
            "Ho: Geography has no influence on Exited\n",
            "0.09837834684190844\n",
            "We do not reject the Null hypothesis (Ho).\n",
            "-----------------------\n",
            "Ho: Gender has no influence on Exited\n",
            "0.028734871008344976\n",
            "We reject the Null-hypothesis\n",
            "-----------------------\n",
            "Ho: NumOfProducts has no influence on Exited\n",
            "3.2621082242964057e-18\n",
            "We reject the Null-hypothesis\n",
            "-----------------------\n",
            "Ho: HasCrCard has no influence on Exited\n",
            "0.2646626798515538\n",
            "We do not reject the Null hypothesis (Ho).\n",
            "-----------------------\n",
            "Ho: IsActiveMember has no influence on Exited\n",
            "0.008804512654423795\n",
            "We reject the Null-hypothesis\n"
          ]
        }
      ],
      "source": [
        "for i in cat_cols:\n",
        "  print(\"-----------------------\")\n",
        "  print(f\"Ho: {i} has no influence on Exited\")\n",
        "  test_df = pd.crosstab(df[i], df.Exited)\n",
        "  chi2, p, *_ = chi2_contingency(test_df)\n",
        "  if p > 0.05:\n",
        "   print(p)\n",
        "   print('We do not reject the Null hypothesis (Ho).')\n",
        "  else:\n",
        "   imp_cols.append(i)\n",
        "   print(p)\n",
        "   print('We reject the Null-hypothesis')"
      ]
    },
    {
      "cell_type": "code",
      "execution_count": null,
      "id": "c3433e75",
      "metadata": {
        "id": "c3433e75",
        "outputId": "14d2d9ad-6257-42e4-91c8-dcfe64cf16b7"
      },
      "outputs": [
        {
          "name": "stdout",
          "output_type": "stream",
          "text": [
            "-------------------\n",
            "Age has no influence on Exited\n",
            "9.460778806013697e-14\n",
            "We reject the null hypothesis (Ho)\n",
            "-------------------\n",
            "Balance has no influence on Exited\n",
            "0.0026535935299679307\n",
            "We reject the null hypothesis (Ho)\n",
            "-------------------\n",
            "CreditScore has no influence on Exited\n"
          ]
        },
        {
          "name": "stdout",
          "output_type": "stream",
          "text": [
            "0.07753120682952774\n",
            "We do not reject the null hypothesis (Ho).\n",
            "-------------------\n",
            "EstimatedSalary has no influence on Exited\n",
            "0.20128282210835113\n",
            "We do not reject the null hypothesis (Ho).\n",
            "-------------------\n",
            "Exited has no influence on Exited\n",
            "0.0\n",
            "We reject the null hypothesis (Ho)\n",
            "-------------------\n",
            "Tenure has no influence on Exited\n",
            "0.9380657046710206\n",
            "We do not reject the null hypothesis (Ho).\n"
          ]
        },
        {
          "name": "stderr",
          "output_type": "stream",
          "text": [
            "D:\\anaconda\\Lib\\site-packages\\statsmodels\\stats\\weightstats.py:748: RuntimeWarning: divide by zero encountered in scalar divide\n",
            "  zstat = (value1 - value2 - diff) / std_diff\n"
          ]
        }
      ],
      "source": [
        "for i in conti_cols:\n",
        "    print(\"-------------------\")\n",
        "    print(f\"{i} has no influence on Exited\")\n",
        "    t, p = ssw.ztest(df[df.Exited == 1][i], df[df.Exited == 0][i], value = 0)\n",
        "    print(p)\n",
        "    if p > 0.05:\n",
        "      print('We do not reject the null hypothesis (Ho).')\n",
        "    else:\n",
        "      imp_cols.append(i)\n",
        "      print(\"We reject the null hypothesis (Ho)\")"
      ]
    },
    {
      "cell_type": "code",
      "execution_count": null,
      "id": "075518c9",
      "metadata": {
        "id": "075518c9"
      },
      "outputs": [],
      "source": [
        "imp_cols.remove('Exited')"
      ]
    },
    {
      "cell_type": "code",
      "execution_count": null,
      "id": "ff69e769",
      "metadata": {
        "id": "ff69e769",
        "outputId": "07397230-dac6-4554-a4d2-183a42633c1a"
      },
      "outputs": [
        {
          "data": {
            "text/plain": [
              "['Gender', 'NumOfProducts', 'IsActiveMember', 'Age', 'Balance']"
            ]
          },
          "execution_count": 18,
          "metadata": {},
          "output_type": "execute_result"
        }
      ],
      "source": [
        "imp_cols"
      ]
    },
    {
      "cell_type": "code",
      "execution_count": null,
      "id": "823367f6",
      "metadata": {
        "id": "823367f6"
      },
      "outputs": [],
      "source": [
        "x = df[imp_cols]\n",
        "y = df['Exited']"
      ]
    },
    {
      "cell_type": "code",
      "execution_count": null,
      "id": "79f74afd",
      "metadata": {
        "id": "79f74afd",
        "outputId": "41874b4c-36f2-40bd-8869-8b5d62dfa07b"
      },
      "outputs": [
        {
          "name": "stdout",
          "output_type": "stream",
          "text": [
            "<class 'pandas.core.frame.DataFrame'>\n",
            "RangeIndex: 108000 entries, 0 to 107999\n",
            "Data columns (total 5 columns):\n",
            " #   Column          Non-Null Count   Dtype  \n",
            "---  ------          --------------   -----  \n",
            " 0   Gender          108000 non-null  object \n",
            " 1   NumOfProducts   108000 non-null  float64\n",
            " 2   IsActiveMember  108000 non-null  float64\n",
            " 3   Age             108000 non-null  float64\n",
            " 4   Balance         108000 non-null  float64\n",
            "dtypes: float64(4), object(1)\n",
            "memory usage: 4.1+ MB\n"
          ]
        }
      ],
      "source": [
        "x.info()"
      ]
    },
    {
      "cell_type": "code",
      "execution_count": null,
      "id": "615e4965",
      "metadata": {
        "id": "615e4965",
        "outputId": "1fd1ba39-b929-42ef-b49c-5736400cc861"
      },
      "outputs": [
        {
          "data": {
            "text/html": [
              "<div>\n",
              "<style scoped>\n",
              "    .dataframe tbody tr th:only-of-type {\n",
              "        vertical-align: middle;\n",
              "    }\n",
              "\n",
              "    .dataframe tbody tr th {\n",
              "        vertical-align: top;\n",
              "    }\n",
              "\n",
              "    .dataframe thead th {\n",
              "        text-align: right;\n",
              "    }\n",
              "</style>\n",
              "<table border=\"1\" class=\"dataframe\">\n",
              "  <thead>\n",
              "    <tr style=\"text-align: right;\">\n",
              "      <th></th>\n",
              "      <th>NumOfProducts</th>\n",
              "      <th>IsActiveMember</th>\n",
              "      <th>Age</th>\n",
              "      <th>Balance</th>\n",
              "      <th>Gender_Male</th>\n",
              "    </tr>\n",
              "  </thead>\n",
              "  <tbody>\n",
              "    <tr>\n",
              "      <th>0</th>\n",
              "      <td>1</td>\n",
              "      <td>1</td>\n",
              "      <td>42</td>\n",
              "      <td>0</td>\n",
              "      <td>0</td>\n",
              "    </tr>\n",
              "    <tr>\n",
              "      <th>1</th>\n",
              "      <td>1</td>\n",
              "      <td>1</td>\n",
              "      <td>41</td>\n",
              "      <td>0</td>\n",
              "      <td>0</td>\n",
              "    </tr>\n",
              "    <tr>\n",
              "      <th>2</th>\n",
              "      <td>2</td>\n",
              "      <td>0</td>\n",
              "      <td>37</td>\n",
              "      <td>0</td>\n",
              "      <td>0</td>\n",
              "    </tr>\n",
              "    <tr>\n",
              "      <th>3</th>\n",
              "      <td>1</td>\n",
              "      <td>1</td>\n",
              "      <td>43</td>\n",
              "      <td>125510</td>\n",
              "      <td>0</td>\n",
              "    </tr>\n",
              "    <tr>\n",
              "      <th>4</th>\n",
              "      <td>2</td>\n",
              "      <td>0</td>\n",
              "      <td>44</td>\n",
              "      <td>113755</td>\n",
              "      <td>1</td>\n",
              "    </tr>\n",
              "    <tr>\n",
              "      <th>...</th>\n",
              "      <td>...</td>\n",
              "      <td>...</td>\n",
              "      <td>...</td>\n",
              "      <td>...</td>\n",
              "      <td>...</td>\n",
              "    </tr>\n",
              "    <tr>\n",
              "      <th>107995</th>\n",
              "      <td>2</td>\n",
              "      <td>0</td>\n",
              "      <td>53</td>\n",
              "      <td>141004</td>\n",
              "      <td>1</td>\n",
              "    </tr>\n",
              "    <tr>\n",
              "      <th>107996</th>\n",
              "      <td>2</td>\n",
              "      <td>0</td>\n",
              "      <td>38</td>\n",
              "      <td>0</td>\n",
              "      <td>0</td>\n",
              "    </tr>\n",
              "    <tr>\n",
              "      <th>107997</th>\n",
              "      <td>1</td>\n",
              "      <td>0</td>\n",
              "      <td>32</td>\n",
              "      <td>12459</td>\n",
              "      <td>1</td>\n",
              "    </tr>\n",
              "    <tr>\n",
              "      <th>107998</th>\n",
              "      <td>2</td>\n",
              "      <td>1</td>\n",
              "      <td>30</td>\n",
              "      <td>0</td>\n",
              "      <td>1</td>\n",
              "    </tr>\n",
              "    <tr>\n",
              "      <th>107999</th>\n",
              "      <td>1</td>\n",
              "      <td>1</td>\n",
              "      <td>45</td>\n",
              "      <td>0</td>\n",
              "      <td>0</td>\n",
              "    </tr>\n",
              "  </tbody>\n",
              "</table>\n",
              "<p>108000 rows × 5 columns</p>\n",
              "</div>"
            ],
            "text/plain": [
              "        NumOfProducts  IsActiveMember  Age  Balance  Gender_Male\n",
              "0                   1               1   42        0            0\n",
              "1                   1               1   41        0            0\n",
              "2                   2               0   37        0            0\n",
              "3                   1               1   43   125510            0\n",
              "4                   2               0   44   113755            1\n",
              "...               ...             ...  ...      ...          ...\n",
              "107995              2               0   53   141004            1\n",
              "107996              2               0   38        0            0\n",
              "107997              1               0   32    12459            1\n",
              "107998              2               1   30        0            1\n",
              "107999              1               1   45        0            0\n",
              "\n",
              "[108000 rows x 5 columns]"
            ]
          },
          "execution_count": 21,
          "metadata": {},
          "output_type": "execute_result"
        }
      ],
      "source": [
        "x = pd.get_dummies(x, columns=['Gender'], drop_first=True, prefix='Gender').astype(int)\n",
        "x"
      ]
    },
    {
      "cell_type": "code",
      "execution_count": null,
      "id": "761dc51e",
      "metadata": {
        "id": "761dc51e",
        "outputId": "db5f412b-7a0a-46cc-e25a-fb441e77b955"
      },
      "outputs": [
        {
          "data": {
            "text/html": [
              "<div>\n",
              "<style scoped>\n",
              "    .dataframe tbody tr th:only-of-type {\n",
              "        vertical-align: middle;\n",
              "    }\n",
              "\n",
              "    .dataframe tbody tr th {\n",
              "        vertical-align: top;\n",
              "    }\n",
              "\n",
              "    .dataframe thead th {\n",
              "        text-align: right;\n",
              "    }\n",
              "</style>\n",
              "<table border=\"1\" class=\"dataframe\">\n",
              "  <thead>\n",
              "    <tr style=\"text-align: right;\">\n",
              "      <th></th>\n",
              "      <th>IsActiveMember</th>\n",
              "      <th>Age</th>\n",
              "      <th>Balance</th>\n",
              "      <th>Gender_Male</th>\n",
              "      <th>NumOfProducts_2</th>\n",
              "      <th>NumOfProducts_3</th>\n",
              "      <th>NumOfProducts_4</th>\n",
              "    </tr>\n",
              "  </thead>\n",
              "  <tbody>\n",
              "    <tr>\n",
              "      <th>0</th>\n",
              "      <td>1</td>\n",
              "      <td>42</td>\n",
              "      <td>0</td>\n",
              "      <td>0</td>\n",
              "      <td>0</td>\n",
              "      <td>0</td>\n",
              "      <td>0</td>\n",
              "    </tr>\n",
              "    <tr>\n",
              "      <th>1</th>\n",
              "      <td>1</td>\n",
              "      <td>41</td>\n",
              "      <td>0</td>\n",
              "      <td>0</td>\n",
              "      <td>0</td>\n",
              "      <td>0</td>\n",
              "      <td>0</td>\n",
              "    </tr>\n",
              "    <tr>\n",
              "      <th>2</th>\n",
              "      <td>0</td>\n",
              "      <td>37</td>\n",
              "      <td>0</td>\n",
              "      <td>0</td>\n",
              "      <td>1</td>\n",
              "      <td>0</td>\n",
              "      <td>0</td>\n",
              "    </tr>\n",
              "    <tr>\n",
              "      <th>3</th>\n",
              "      <td>1</td>\n",
              "      <td>43</td>\n",
              "      <td>125510</td>\n",
              "      <td>0</td>\n",
              "      <td>0</td>\n",
              "      <td>0</td>\n",
              "      <td>0</td>\n",
              "    </tr>\n",
              "    <tr>\n",
              "      <th>4</th>\n",
              "      <td>0</td>\n",
              "      <td>44</td>\n",
              "      <td>113755</td>\n",
              "      <td>1</td>\n",
              "      <td>1</td>\n",
              "      <td>0</td>\n",
              "      <td>0</td>\n",
              "    </tr>\n",
              "    <tr>\n",
              "      <th>...</th>\n",
              "      <td>...</td>\n",
              "      <td>...</td>\n",
              "      <td>...</td>\n",
              "      <td>...</td>\n",
              "      <td>...</td>\n",
              "      <td>...</td>\n",
              "      <td>...</td>\n",
              "    </tr>\n",
              "    <tr>\n",
              "      <th>107995</th>\n",
              "      <td>0</td>\n",
              "      <td>53</td>\n",
              "      <td>141004</td>\n",
              "      <td>1</td>\n",
              "      <td>1</td>\n",
              "      <td>0</td>\n",
              "      <td>0</td>\n",
              "    </tr>\n",
              "    <tr>\n",
              "      <th>107996</th>\n",
              "      <td>0</td>\n",
              "      <td>38</td>\n",
              "      <td>0</td>\n",
              "      <td>0</td>\n",
              "      <td>1</td>\n",
              "      <td>0</td>\n",
              "      <td>0</td>\n",
              "    </tr>\n",
              "    <tr>\n",
              "      <th>107997</th>\n",
              "      <td>0</td>\n",
              "      <td>32</td>\n",
              "      <td>12459</td>\n",
              "      <td>1</td>\n",
              "      <td>0</td>\n",
              "      <td>0</td>\n",
              "      <td>0</td>\n",
              "    </tr>\n",
              "    <tr>\n",
              "      <th>107998</th>\n",
              "      <td>1</td>\n",
              "      <td>30</td>\n",
              "      <td>0</td>\n",
              "      <td>1</td>\n",
              "      <td>1</td>\n",
              "      <td>0</td>\n",
              "      <td>0</td>\n",
              "    </tr>\n",
              "    <tr>\n",
              "      <th>107999</th>\n",
              "      <td>1</td>\n",
              "      <td>45</td>\n",
              "      <td>0</td>\n",
              "      <td>0</td>\n",
              "      <td>0</td>\n",
              "      <td>0</td>\n",
              "      <td>0</td>\n",
              "    </tr>\n",
              "  </tbody>\n",
              "</table>\n",
              "<p>108000 rows × 7 columns</p>\n",
              "</div>"
            ],
            "text/plain": [
              "        IsActiveMember  Age  Balance  Gender_Male  NumOfProducts_2  \\\n",
              "0                    1   42        0            0                0   \n",
              "1                    1   41        0            0                0   \n",
              "2                    0   37        0            0                1   \n",
              "3                    1   43   125510            0                0   \n",
              "4                    0   44   113755            1                1   \n",
              "...                ...  ...      ...          ...              ...   \n",
              "107995               0   53   141004            1                1   \n",
              "107996               0   38        0            0                1   \n",
              "107997               0   32    12459            1                0   \n",
              "107998               1   30        0            1                1   \n",
              "107999               1   45        0            0                0   \n",
              "\n",
              "        NumOfProducts_3  NumOfProducts_4  \n",
              "0                     0                0  \n",
              "1                     0                0  \n",
              "2                     0                0  \n",
              "3                     0                0  \n",
              "4                     0                0  \n",
              "...                 ...              ...  \n",
              "107995                0                0  \n",
              "107996                0                0  \n",
              "107997                0                0  \n",
              "107998                0                0  \n",
              "107999                0                0  \n",
              "\n",
              "[108000 rows x 7 columns]"
            ]
          },
          "execution_count": 22,
          "metadata": {},
          "output_type": "execute_result"
        }
      ],
      "source": [
        "x = pd.get_dummies(x, columns=['NumOfProducts'], drop_first=True, prefix='NumOfProducts').astype(int)\n",
        "x"
      ]
    },
    {
      "cell_type": "code",
      "execution_count": null,
      "id": "4b23554b",
      "metadata": {
        "id": "4b23554b",
        "outputId": "f7c6013e-400d-48fd-f9ad-10183848987c"
      },
      "outputs": [
        {
          "data": {
            "text/html": [
              "<div>\n",
              "<style scoped>\n",
              "    .dataframe tbody tr th:only-of-type {\n",
              "        vertical-align: middle;\n",
              "    }\n",
              "\n",
              "    .dataframe tbody tr th {\n",
              "        vertical-align: top;\n",
              "    }\n",
              "\n",
              "    .dataframe thead th {\n",
              "        text-align: right;\n",
              "    }\n",
              "</style>\n",
              "<table border=\"1\" class=\"dataframe\">\n",
              "  <thead>\n",
              "    <tr style=\"text-align: right;\">\n",
              "      <th></th>\n",
              "      <th>Age</th>\n",
              "      <th>Balance</th>\n",
              "      <th>Gender_Male</th>\n",
              "      <th>NumOfProducts_2</th>\n",
              "      <th>NumOfProducts_3</th>\n",
              "      <th>NumOfProducts_4</th>\n",
              "      <th>IsActiveMember_1</th>\n",
              "    </tr>\n",
              "  </thead>\n",
              "  <tbody>\n",
              "    <tr>\n",
              "      <th>0</th>\n",
              "      <td>42</td>\n",
              "      <td>0</td>\n",
              "      <td>0</td>\n",
              "      <td>0</td>\n",
              "      <td>0</td>\n",
              "      <td>0</td>\n",
              "      <td>1</td>\n",
              "    </tr>\n",
              "    <tr>\n",
              "      <th>1</th>\n",
              "      <td>41</td>\n",
              "      <td>0</td>\n",
              "      <td>0</td>\n",
              "      <td>0</td>\n",
              "      <td>0</td>\n",
              "      <td>0</td>\n",
              "      <td>1</td>\n",
              "    </tr>\n",
              "    <tr>\n",
              "      <th>2</th>\n",
              "      <td>37</td>\n",
              "      <td>0</td>\n",
              "      <td>0</td>\n",
              "      <td>1</td>\n",
              "      <td>0</td>\n",
              "      <td>0</td>\n",
              "      <td>0</td>\n",
              "    </tr>\n",
              "    <tr>\n",
              "      <th>3</th>\n",
              "      <td>43</td>\n",
              "      <td>125510</td>\n",
              "      <td>0</td>\n",
              "      <td>0</td>\n",
              "      <td>0</td>\n",
              "      <td>0</td>\n",
              "      <td>1</td>\n",
              "    </tr>\n",
              "    <tr>\n",
              "      <th>4</th>\n",
              "      <td>44</td>\n",
              "      <td>113755</td>\n",
              "      <td>1</td>\n",
              "      <td>1</td>\n",
              "      <td>0</td>\n",
              "      <td>0</td>\n",
              "      <td>0</td>\n",
              "    </tr>\n",
              "    <tr>\n",
              "      <th>...</th>\n",
              "      <td>...</td>\n",
              "      <td>...</td>\n",
              "      <td>...</td>\n",
              "      <td>...</td>\n",
              "      <td>...</td>\n",
              "      <td>...</td>\n",
              "      <td>...</td>\n",
              "    </tr>\n",
              "    <tr>\n",
              "      <th>107995</th>\n",
              "      <td>53</td>\n",
              "      <td>141004</td>\n",
              "      <td>1</td>\n",
              "      <td>1</td>\n",
              "      <td>0</td>\n",
              "      <td>0</td>\n",
              "      <td>0</td>\n",
              "    </tr>\n",
              "    <tr>\n",
              "      <th>107996</th>\n",
              "      <td>38</td>\n",
              "      <td>0</td>\n",
              "      <td>0</td>\n",
              "      <td>1</td>\n",
              "      <td>0</td>\n",
              "      <td>0</td>\n",
              "      <td>0</td>\n",
              "    </tr>\n",
              "    <tr>\n",
              "      <th>107997</th>\n",
              "      <td>32</td>\n",
              "      <td>12459</td>\n",
              "      <td>1</td>\n",
              "      <td>0</td>\n",
              "      <td>0</td>\n",
              "      <td>0</td>\n",
              "      <td>0</td>\n",
              "    </tr>\n",
              "    <tr>\n",
              "      <th>107998</th>\n",
              "      <td>30</td>\n",
              "      <td>0</td>\n",
              "      <td>1</td>\n",
              "      <td>1</td>\n",
              "      <td>0</td>\n",
              "      <td>0</td>\n",
              "      <td>1</td>\n",
              "    </tr>\n",
              "    <tr>\n",
              "      <th>107999</th>\n",
              "      <td>45</td>\n",
              "      <td>0</td>\n",
              "      <td>0</td>\n",
              "      <td>0</td>\n",
              "      <td>0</td>\n",
              "      <td>0</td>\n",
              "      <td>1</td>\n",
              "    </tr>\n",
              "  </tbody>\n",
              "</table>\n",
              "<p>108000 rows × 7 columns</p>\n",
              "</div>"
            ],
            "text/plain": [
              "        Age  Balance  Gender_Male  NumOfProducts_2  NumOfProducts_3  \\\n",
              "0        42        0            0                0                0   \n",
              "1        41        0            0                0                0   \n",
              "2        37        0            0                1                0   \n",
              "3        43   125510            0                0                0   \n",
              "4        44   113755            1                1                0   \n",
              "...     ...      ...          ...              ...              ...   \n",
              "107995   53   141004            1                1                0   \n",
              "107996   38        0            0                1                0   \n",
              "107997   32    12459            1                0                0   \n",
              "107998   30        0            1                1                0   \n",
              "107999   45        0            0                0                0   \n",
              "\n",
              "        NumOfProducts_4  IsActiveMember_1  \n",
              "0                     0                 1  \n",
              "1                     0                 1  \n",
              "2                     0                 0  \n",
              "3                     0                 1  \n",
              "4                     0                 0  \n",
              "...                 ...               ...  \n",
              "107995                0                 0  \n",
              "107996                0                 0  \n",
              "107997                0                 0  \n",
              "107998                0                 1  \n",
              "107999                0                 1  \n",
              "\n",
              "[108000 rows x 7 columns]"
            ]
          },
          "execution_count": 23,
          "metadata": {},
          "output_type": "execute_result"
        }
      ],
      "source": [
        "x = pd.get_dummies(x, columns=['IsActiveMember'], drop_first=True, prefix='IsActiveMember').astype(int)\n",
        "x"
      ]
    },
    {
      "cell_type": "code",
      "execution_count": null,
      "id": "4118c4b2",
      "metadata": {
        "id": "4118c4b2"
      },
      "outputs": [],
      "source": [
        "test_df = pd.concat([x, y], axis = 1)"
      ]
    },
    {
      "cell_type": "code",
      "execution_count": null,
      "id": "0d5cd1f5",
      "metadata": {
        "id": "0d5cd1f5",
        "outputId": "a7efb340-8e38-40c9-f53c-5a09e0e59644"
      },
      "outputs": [
        {
          "data": {
            "text/html": [
              "<div>\n",
              "<style scoped>\n",
              "    .dataframe tbody tr th:only-of-type {\n",
              "        vertical-align: middle;\n",
              "    }\n",
              "\n",
              "    .dataframe tbody tr th {\n",
              "        vertical-align: top;\n",
              "    }\n",
              "\n",
              "    .dataframe thead th {\n",
              "        text-align: right;\n",
              "    }\n",
              "</style>\n",
              "<table border=\"1\" class=\"dataframe\">\n",
              "  <thead>\n",
              "    <tr style=\"text-align: right;\">\n",
              "      <th></th>\n",
              "      <th>Age</th>\n",
              "      <th>Balance</th>\n",
              "      <th>Gender_Male</th>\n",
              "      <th>NumOfProducts_2</th>\n",
              "      <th>NumOfProducts_3</th>\n",
              "      <th>NumOfProducts_4</th>\n",
              "      <th>IsActiveMember_1</th>\n",
              "      <th>Exited</th>\n",
              "    </tr>\n",
              "  </thead>\n",
              "  <tbody>\n",
              "    <tr>\n",
              "      <th>Age</th>\n",
              "      <td>1.000000</td>\n",
              "      <td>0.002083</td>\n",
              "      <td>-0.002463</td>\n",
              "      <td>-0.009197</td>\n",
              "      <td>0.006633</td>\n",
              "      <td>0.002001</td>\n",
              "      <td>0.006265</td>\n",
              "      <td>0.022659</td>\n",
              "    </tr>\n",
              "    <tr>\n",
              "      <th>Balance</th>\n",
              "      <td>0.002083</td>\n",
              "      <td>1.000000</td>\n",
              "      <td>-0.006536</td>\n",
              "      <td>-0.016778</td>\n",
              "      <td>0.001727</td>\n",
              "      <td>0.002999</td>\n",
              "      <td>0.003317</td>\n",
              "      <td>0.009144</td>\n",
              "    </tr>\n",
              "    <tr>\n",
              "      <th>Gender_Male</th>\n",
              "      <td>-0.002463</td>\n",
              "      <td>-0.006536</td>\n",
              "      <td>1.000000</td>\n",
              "      <td>-0.003252</td>\n",
              "      <td>0.001813</td>\n",
              "      <td>-0.001094</td>\n",
              "      <td>-0.003375</td>\n",
              "      <td>-0.006678</td>\n",
              "    </tr>\n",
              "    <tr>\n",
              "      <th>NumOfProducts_2</th>\n",
              "      <td>-0.009197</td>\n",
              "      <td>-0.016778</td>\n",
              "      <td>-0.003252</td>\n",
              "      <td>1.000000</td>\n",
              "      <td>-0.142828</td>\n",
              "      <td>-0.068557</td>\n",
              "      <td>0.001130</td>\n",
              "      <td>-0.023865</td>\n",
              "    </tr>\n",
              "    <tr>\n",
              "      <th>NumOfProducts_3</th>\n",
              "      <td>0.006633</td>\n",
              "      <td>0.001727</td>\n",
              "      <td>0.001813</td>\n",
              "      <td>-0.142828</td>\n",
              "      <td>1.000000</td>\n",
              "      <td>-0.011775</td>\n",
              "      <td>0.000239</td>\n",
              "      <td>0.012011</td>\n",
              "    </tr>\n",
              "    <tr>\n",
              "      <th>NumOfProducts_4</th>\n",
              "      <td>0.002001</td>\n",
              "      <td>0.002999</td>\n",
              "      <td>-0.001094</td>\n",
              "      <td>-0.068557</td>\n",
              "      <td>-0.011775</td>\n",
              "      <td>1.000000</td>\n",
              "      <td>0.003113</td>\n",
              "      <td>0.013150</td>\n",
              "    </tr>\n",
              "    <tr>\n",
              "      <th>IsActiveMember_1</th>\n",
              "      <td>0.006265</td>\n",
              "      <td>0.003317</td>\n",
              "      <td>-0.003375</td>\n",
              "      <td>0.001130</td>\n",
              "      <td>0.000239</td>\n",
              "      <td>0.003113</td>\n",
              "      <td>1.000000</td>\n",
              "      <td>-0.007994</td>\n",
              "    </tr>\n",
              "    <tr>\n",
              "      <th>Exited</th>\n",
              "      <td>0.022659</td>\n",
              "      <td>0.009144</td>\n",
              "      <td>-0.006678</td>\n",
              "      <td>-0.023865</td>\n",
              "      <td>0.012011</td>\n",
              "      <td>0.013150</td>\n",
              "      <td>-0.007994</td>\n",
              "      <td>1.000000</td>\n",
              "    </tr>\n",
              "  </tbody>\n",
              "</table>\n",
              "</div>"
            ],
            "text/plain": [
              "                       Age   Balance  Gender_Male  NumOfProducts_2  \\\n",
              "Age               1.000000  0.002083    -0.002463        -0.009197   \n",
              "Balance           0.002083  1.000000    -0.006536        -0.016778   \n",
              "Gender_Male      -0.002463 -0.006536     1.000000        -0.003252   \n",
              "NumOfProducts_2  -0.009197 -0.016778    -0.003252         1.000000   \n",
              "NumOfProducts_3   0.006633  0.001727     0.001813        -0.142828   \n",
              "NumOfProducts_4   0.002001  0.002999    -0.001094        -0.068557   \n",
              "IsActiveMember_1  0.006265  0.003317    -0.003375         0.001130   \n",
              "Exited            0.022659  0.009144    -0.006678        -0.023865   \n",
              "\n",
              "                  NumOfProducts_3  NumOfProducts_4  IsActiveMember_1    Exited  \n",
              "Age                      0.006633         0.002001          0.006265  0.022659  \n",
              "Balance                  0.001727         0.002999          0.003317  0.009144  \n",
              "Gender_Male              0.001813        -0.001094         -0.003375 -0.006678  \n",
              "NumOfProducts_2         -0.142828        -0.068557          0.001130 -0.023865  \n",
              "NumOfProducts_3          1.000000        -0.011775          0.000239  0.012011  \n",
              "NumOfProducts_4         -0.011775         1.000000          0.003113  0.013150  \n",
              "IsActiveMember_1         0.000239         0.003113          1.000000 -0.007994  \n",
              "Exited                   0.012011         0.013150         -0.007994  1.000000  "
            ]
          },
          "execution_count": 25,
          "metadata": {},
          "output_type": "execute_result"
        }
      ],
      "source": [
        "corr_matrix = test_df.corr()\n",
        "corr_matrix"
      ]
    },
    {
      "cell_type": "code",
      "execution_count": null,
      "id": "e985a479",
      "metadata": {
        "id": "e985a479",
        "outputId": "85cdaf75-5eeb-4d0a-a8eb-10fe659ba6f4"
      },
      "outputs": [
        {
          "data": {
            "image/png": "[encoded data removed]",
            "text/plain": [
              "<Figure size 1500x1500 with 2 Axes>"
            ]
          },
          "metadata": {},
          "output_type": "display_data"
        }
      ],
      "source": [
        "plt.figure(figsize=(15, 15))\n",
        "sns.heatmap(corr_matrix, annot=True, fmt=\".2f\", cmap='coolwarm', square=True)\n",
        "plt.title(\"Correlation Heatmap\")\n",
        "plt.show()"
      ]
    },
    {
      "cell_type": "code",
      "execution_count": null,
      "id": "d6a319b8",
      "metadata": {
        "id": "d6a319b8"
      },
      "outputs": [],
      "source": [
        "x_train, x_test, y_train, y_test = train_test_split(x, y, test_size=0.2)"
      ]
    },
    {
      "cell_type": "code",
      "execution_count": null,
      "id": "3eb1ad69",
      "metadata": {
        "id": "3eb1ad69",
        "outputId": "2aa75e6d-9f89-4579-aec8-5aca6336914e"
      },
      "outputs": [
        {
          "data": {
            "text/plain": [
              "(86400, 7)"
            ]
          },
          "execution_count": 28,
          "metadata": {},
          "output_type": "execute_result"
        }
      ],
      "source": [
        "x_train.shape"
      ]
    },
    {
      "cell_type": "code",
      "execution_count": null,
      "id": "1765202e",
      "metadata": {
        "id": "1765202e",
        "outputId": "4feb054e-8777-47bb-c837-e6f89f41bc14"
      },
      "outputs": [
        {
          "name": "stdout",
          "output_type": "stream",
          "text": [
            "Optimization terminated successfully.\n",
            "         Current function value: 0.514411\n",
            "         Iterations 5\n",
            "                           Logit Regression Results                           \n",
            "==============================================================================\n",
            "Dep. Variable:                 Exited   No. Observations:                86400\n",
            "Model:                          Logit   Df Residuals:                    86393\n",
            "Method:                           MLE   Df Model:                            6\n",
            "Date:                Sun, 29 Jun 2025   Pseudo R-squ.:                -0.01751\n",
            "Time:                        19:53:18   Log-Likelihood:                -44445.\n",
            "converged:                       True   LL-Null:                       -43680.\n",
            "Covariance Type:            nonrobust   LLR p-value:                     1.000\n",
            "====================================================================================\n",
            "                       coef    std err          z      P>|z|      [0.025      0.975]\n",
            "------------------------------------------------------------------------------------\n",
            "Age                 -0.0233      0.000    -53.211      0.000      -0.024      -0.022\n",
            "Balance          -1.158e-06   1.28e-07     -9.045      0.000   -1.41e-06   -9.07e-07\n",
            "Gender_Male         -0.1949      0.016    -12.052      0.000      -0.227      -0.163\n",
            "NumOfProducts_2     -0.2582      0.017    -15.489      0.000      -0.291      -0.226\n",
            "NumOfProducts_3     -0.0093      0.053     -0.174      0.862      -0.114       0.095\n",
            "NumOfProducts_4      0.2388      0.104      2.301      0.021       0.035       0.442\n",
            "IsActiveMember_1    -0.1882      0.016    -11.562      0.000      -0.220      -0.156\n",
            "====================================================================================\n"
          ]
        }
      ],
      "source": [
        "logi_reg_model = sm.Logit(y_train, x_train).fit()\n",
        "print(logi_reg_model.summary())"
      ]
    },
    {
      "cell_type": "code",
      "execution_count": null,
      "id": "e8f0bf50",
      "metadata": {
        "id": "e8f0bf50"
      },
      "outputs": [],
      "source": [
        "y_pred = logi_reg_model.predict(x_test)"
      ]
    },
    {
      "cell_type": "code",
      "execution_count": null,
      "id": "d1185004",
      "metadata": {
        "id": "d1185004",
        "outputId": "48cddeb1-a083-4c87-ff78-9e2980eeb7a6"
      },
      "outputs": [
        {
          "name": "stdout",
          "output_type": "stream",
          "text": [
            "0.4951146041976465\n"
          ]
        }
      ],
      "source": [
        "print(roc_auc_score(y_test, y_pred))"
      ]
    },
    {
      "cell_type": "code",
      "execution_count": null,
      "id": "a9f0cd50",
      "metadata": {
        "id": "a9f0cd50",
        "outputId": "4a0e650b-ce1b-44cf-e1ec-b8cdb1f621ae"
      },
      "outputs": [
        {
          "name": "stdout",
          "output_type": "stream",
          "text": [
            "              precision    recall  f1-score   support\n",
            "\n",
            "         0.0       0.79      1.00      0.88     17111\n",
            "         1.0       0.00      0.00      0.00      4489\n",
            "\n",
            "    accuracy                           0.79     21600\n",
            "   macro avg       0.40      0.50      0.44     21600\n",
            "weighted avg       0.63      0.79      0.70     21600\n",
            "\n"
          ]
        },
        {
          "name": "stderr",
          "output_type": "stream",
          "text": [
            "D:\\anaconda\\Lib\\site-packages\\sklearn\\metrics\\_classification.py:1531: UndefinedMetricWarning: Precision is ill-defined and being set to 0.0 in labels with no predicted samples. Use `zero_division` parameter to control this behavior.\n",
            "  _warn_prf(average, modifier, f\"{metric.capitalize()} is\", len(result))\n",
            "D:\\anaconda\\Lib\\site-packages\\sklearn\\metrics\\_classification.py:1531: UndefinedMetricWarning: Precision is ill-defined and being set to 0.0 in labels with no predicted samples. Use `zero_division` parameter to control this behavior.\n",
            "  _warn_prf(average, modifier, f\"{metric.capitalize()} is\", len(result))\n",
            "D:\\anaconda\\Lib\\site-packages\\sklearn\\metrics\\_classification.py:1531: UndefinedMetricWarning: Precision is ill-defined and being set to 0.0 in labels with no predicted samples. Use `zero_division` parameter to control this behavior.\n",
            "  _warn_prf(average, modifier, f\"{metric.capitalize()} is\", len(result))\n"
          ]
        }
      ],
      "source": [
        "y_pred_class = (y_pred >= 0.5).astype(int)\n",
        "print(classification_report(y_test, y_pred_class))"
      ]
    },
    {
      "cell_type": "code",
      "execution_count": null,
      "id": "49430395",
      "metadata": {
        "id": "49430395",
        "outputId": "e653454c-1536-4066-a833-eea2543a5f65"
      },
      "outputs": [
        {
          "name": "stderr",
          "output_type": "stream",
          "text": [
            "D:\\anaconda\\Lib\\site-packages\\sklearn\\model_selection\\_validation.py:540: FitFailedWarning: \n",
            "810 fits failed out of a total of 5670.\n",
            "The score on these train-test partitions for these parameters will be set to nan.\n",
            "If these failures are not expected, you can try to debug them by setting error_score='raise'.\n",
            "\n",
            "Below are more details about the failures:\n",
            "--------------------------------------------------------------------------------\n",
            "810 fits failed with the following error:\n",
            "Traceback (most recent call last):\n",
            "  File \"D:\\anaconda\\Lib\\site-packages\\sklearn\\model_selection\\_validation.py\", line 888, in _fit_and_score\n",
            "    estimator.fit(X_train, y_train, **fit_params)\n",
            "  File \"D:\\anaconda\\Lib\\site-packages\\sklearn\\base.py\", line 1466, in wrapper\n",
            "    estimator._validate_params()\n",
            "  File \"D:\\anaconda\\Lib\\site-packages\\sklearn\\base.py\", line 666, in _validate_params\n",
            "    validate_parameter_constraints(\n",
            "  File \"D:\\anaconda\\Lib\\site-packages\\sklearn\\utils\\_param_validation.py\", line 95, in validate_parameter_constraints\n",
            "    raise InvalidParameterError(\n",
            "sklearn.utils._param_validation.InvalidParameterError: The 'min_samples_split' parameter of DecisionTreeClassifier must be an int in the range [2, inf) or a float in the range (0.0, 1.0]. Got 1 instead.\n",
            "\n",
            "  warnings.warn(some_fits_failed_message, FitFailedWarning)\n",
            "D:\\anaconda\\Lib\\site-packages\\sklearn\\model_selection\\_search.py:1102: UserWarning: One or more of the test scores are non-finite: [       nan 0.79625    0.79625    ... 0.79292824 0.79288194 0.79290509]\n",
            "  warnings.warn(\n"
          ]
        },
        {
          "data": {
            "text/plain": [
              "{'criterion': 'gini',\n",
              " 'max_depth': 2,\n",
              " 'min_samples_leaf': 1,\n",
              " 'min_samples_split': 2}"
            ]
          },
          "execution_count": 136,
          "metadata": {},
          "output_type": "execute_result"
        }
      ],
      "source": [
        "dtc = DecisionTreeClassifier()\n",
        "param = {\n",
        "  'criterion': ['gini', 'entropy', 'log_loss'],\n",
        "  'max_depth': [2, 3, 4, 5, 6, 7, 8, 9, 10],\n",
        "  'min_samples_split': [1, 2, 3, 4, 5, 6, 7],\n",
        "  'min_samples_leaf': [1, 2, 3, 4, 5, 6]\n",
        "}\n",
        "grd = GridSearchCV(dtc, param, cv=5, scoring='accuracy')\n",
        "grd.fit(x_train, y_train)\n",
        "grd.best_params_"
      ]
    },
    {
      "cell_type": "code",
      "execution_count": null,
      "id": "10c6b6fc",
      "metadata": {
        "id": "10c6b6fc"
      },
      "outputs": [],
      "source": [
        "dtc = DecisionTreeClassifier(criterion='gini', max_depth=2, min_samples_leaf=1, min_samples_split=2).fit(x_train, y_train)"
      ]
    },
    {
      "cell_type": "code",
      "execution_count": null,
      "id": "b5f1ab6f",
      "metadata": {
        "id": "b5f1ab6f",
        "outputId": "654bb92b-95f0-49d5-9bf8-dee005aad619"
      },
      "outputs": [
        {
          "name": "stdout",
          "output_type": "stream",
          "text": [
            "              precision    recall  f1-score   support\n",
            "\n",
            "         0.0       0.79      1.00      0.88     17111\n",
            "         1.0       0.00      0.00      0.00      4489\n",
            "\n",
            "    accuracy                           0.79     21600\n",
            "   macro avg       0.40      0.50      0.44     21600\n",
            "weighted avg       0.63      0.79      0.70     21600\n",
            "\n"
          ]
        },
        {
          "name": "stderr",
          "output_type": "stream",
          "text": [
            "D:\\anaconda\\Lib\\site-packages\\sklearn\\metrics\\_classification.py:1531: UndefinedMetricWarning: Precision is ill-defined and being set to 0.0 in labels with no predicted samples. Use `zero_division` parameter to control this behavior.\n",
            "  _warn_prf(average, modifier, f\"{metric.capitalize()} is\", len(result))\n",
            "D:\\anaconda\\Lib\\site-packages\\sklearn\\metrics\\_classification.py:1531: UndefinedMetricWarning: Precision is ill-defined and being set to 0.0 in labels with no predicted samples. Use `zero_division` parameter to control this behavior.\n",
            "  _warn_prf(average, modifier, f\"{metric.capitalize()} is\", len(result))\n",
            "D:\\anaconda\\Lib\\site-packages\\sklearn\\metrics\\_classification.py:1531: UndefinedMetricWarning: Precision is ill-defined and being set to 0.0 in labels with no predicted samples. Use `zero_division` parameter to control this behavior.\n",
            "  _warn_prf(average, modifier, f\"{metric.capitalize()} is\", len(result))\n"
          ]
        }
      ],
      "source": [
        "y_pred = dtc.predict(x_test)\n",
        "print(classification_report(y_test,y_pred))"
      ]
    },
    {
      "cell_type": "code",
      "execution_count": null,
      "id": "80add7ca",
      "metadata": {
        "id": "80add7ca"
      },
      "outputs": [],
      "source": [
        "scaler = StandardScaler()\n",
        "X_train_scaled = scaler.fit_transform(x_train)\n",
        "X_test_scaled = scaler.transform(x_test)"
      ]
    },
    {
      "cell_type": "code",
      "execution_count": null,
      "id": "17e73425",
      "metadata": {
        "id": "17e73425"
      },
      "outputs": [],
      "source": [
        "knn = KNeighborsClassifier(n_neighbors=5)\n",
        "knn.fit(X_train_scaled, y_train.values.ravel())\n",
        "y_pred = knn.predict(X_test_scaled)"
      ]
    },
    {
      "cell_type": "code",
      "execution_count": null,
      "id": "a2558cea",
      "metadata": {
        "id": "a2558cea",
        "outputId": "f36f5657-1797-44ae-b2e7-29d62b849e8d"
      },
      "outputs": [
        {
          "name": "stdout",
          "output_type": "stream",
          "text": [
            "              precision    recall  f1-score   support\n",
            "\n",
            "         0.0       0.80      0.94      0.86     17155\n",
            "         1.0       0.23      0.07      0.11      4445\n",
            "\n",
            "    accuracy                           0.76     21600\n",
            "   macro avg       0.51      0.50      0.48     21600\n",
            "weighted avg       0.68      0.76      0.71     21600\n",
            "\n"
          ]
        }
      ],
      "source": [
        "print(classification_report(y_test,y_pred))"
      ]
    },
    {
      "cell_type": "code",
      "source": [
        "# 1. Import Libraries\n",
        "import pandas as pd\n",
        "from sklearn.model_selection import train_test_split\n",
        "from sklearn.ensemble import RandomForestClassifier\n",
        "from sklearn.metrics import classification_report, confusion_matrix, accuracy_score\n",
        "\n",
        "# 2. Load Data\n",
        "data = pd.read_csv(\"churning_clean.csv\")\n",
        "\n",
        "# 3. Separate Features and Target\n",
        "X = data.drop(\"Exited\", axis=1)\n",
        "y = data[\"Exited\"]\n",
        "\n",
        "# 4. Encode Categorical Features (if any)\n",
        "X = pd.get_dummies(X, drop_first=True)\n",
        "\n",
        "# 5. Train-Test Split\n",
        "X_train, X_test, y_train, y_test = train_test_split(\n",
        "    X, y, test_size=0.2, random_state=42, stratify=y\n",
        ")\n",
        "\n",
        "# 6. Initialize and Train Random Forest\n",
        "rf = RandomForestClassifier(n_estimators=100, random_state=42)\n",
        "rf.fit(X_train, y_train)\n",
        "\n",
        "# 7. Predictions\n",
        "y_pred = rf.predict(X_test)\n",
        "\n",
        "# 8. Evaluation\n",
        "print(\"=== Confusion Matrix ===\")\n",
        "print(confusion_matrix(y_test, y_pred))\n",
        "\n",
        "print(\"\\n=== Classification Report ===\")\n",
        "print(classification_report(y_test, y_pred))\n",
        "\n",
        "print(\"\\n=== Accuracy Score ===\")\n",
        "print(accuracy_score(y_test, y_pred))\n"
      ],
      "metadata": {
        "id": "oobGOd34u2gO"
      },
      "id": "oobGOd34u2gO",
      "execution_count": null,
      "outputs": []
    },
    {
      "cell_type": "code",
      "source": [
        "# 1. Import Libraries\n",
        "import pandas as pd\n",
        "from sklearn.model_selection import train_test_split\n",
        "from sklearn.naive_bayes import GaussianNB\n",
        "from sklearn.metrics import classification_report, confusion_matrix, accuracy_score\n",
        "\n",
        "# 2. Load Data\n",
        "data = pd.read_csv(\"churning_clean.csv\")\n",
        "\n",
        "# 3. Separate Features and Target\n",
        "X = data.drop(\"Exited\", axis=1)\n",
        "y = data[\"Exited\"]\n",
        "\n",
        "# 4. Encode Categorical Features (if any)\n",
        "X = pd.get_dummies(X, drop_first=True)\n",
        "\n",
        "# 5. Train-Test Split\n",
        "X_train, X_test, y_train, y_test = train_test_split(\n",
        "    X, y, test_size=0.2, random_state=42, stratify=y\n",
        ")\n",
        "\n",
        "# 6. Initialize and Train Gaussian Naive Bayes\n",
        "nb = GaussianNB()\n",
        "nb.fit(X_train, y_train)\n",
        "\n",
        "# 7. Predictions\n",
        "y_pred = nb.predict(X_test)\n",
        "\n",
        "# 8. Evaluation\n",
        "print(\"=== Confusion Matrix ===\")\n",
        "print(confusion_matrix(y_test, y_pred))\n",
        "\n",
        "print(\"\\n=== Classification Report ===\")\n",
        "print(classification_report(y_test, y_pred))\n",
        "\n",
        "print(\"\\n=== Accuracy Score ===\")\n",
        "print(accuracy_score(y_test, y_pred))\n"
      ],
      "metadata": {
        "id": "qengMLvDvUxE"
      },
      "id": "qengMLvDvUxE",
      "execution_count": null,
      "outputs": []
    }
  ],
  "metadata": {
    "kernelspec": {
      "display_name": "Python 3 (ipykernel)",
      "language": "python",
      "name": "python3"
    },
    "language_info": {
      "codemirror_mode": {
        "name": "ipython",
        "version": 3
      },
      "file_extension": ".py",
      "mimetype": "text/x-python",
      "name": "python",
      "nbconvert_exporter": "python",
      "pygments_lexer": "ipython3",
      "version": "3.12.7"
    },
    "colab": {
      "provenance": []
    }
  },
  "nbformat": 4,
  "nbformat_minor": 5
}